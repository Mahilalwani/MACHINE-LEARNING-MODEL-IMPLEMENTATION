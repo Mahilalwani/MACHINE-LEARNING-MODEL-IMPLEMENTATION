{
 "cells": [
  {
   "cell_type": "code",
   "execution_count": 8,
   "id": "cd988e8d",
   "metadata": {},
   "outputs": [],
   "source": [
    "import pandas as pd \n",
    "import numpy as np\n",
    "from sklearn.model_selection import train_test_split, cross_val_score\n",
    "from sklearn.feature_extraction.text import CountVectorizer, TfidfTransformer\n",
    "from sklearn.naive_bayes import MultinomialNB\n",
    "from sklearn.pipeline import Pipeline\n",
    "from sklearn.metrics import classification_report, confusion_matrix, accuracy_score\n",
    "import matplotlib.pyplot as plt\n",
    "import seaborn as sns"
   ]
  },
  {
   "cell_type": "code",
   "execution_count": null,
   "id": "4445a26e",
   "metadata": {},
   "outputs": [],
   "source": [
    "data={\n",
    "    'label':['ham','spam','ham','spam','ham','spam','ham','spam'],\n",
    "    'message':['Hey are we still meeting?','Win $10000 now! Click here!',\"Don't forget the meeting at 3 PM.\",'Congratulations! You have won a free cruise.','Can you send me the report?','Exclusive deal just for you!','Lunch at noon?','You have been selected for a prize','Let us catch up tomorrow.','Buy one get one free offer inside!']\n",
    "}\n",
    "df=pd.DataFrame(data)\n",
    "df['label_num']=df.label.map({'ham':0,'spam':1})"
   ]
  },
  {
   "cell_type": "code",
   "execution_count": null,
   "id": "26d0a69c",
   "metadata": {},
   "outputs": [],
   "source": [
    "X_train,X_test,y_train,y_test=train_test_split(df['message'],df['label_num'],test_size=0.2,random_state=42)"
   ]
  },
  {
   "cell_type": "code",
   "execution_count": null,
   "id": "852274e7",
   "metadata": {},
   "outputs": [],
   "source": [
    "text_clf=Pipeline([('vect',CountVectorizer(stop_words='english')),('tfidf',TfidfTransformer()),('clf',MultinomialNB())])"
   ]
  },
  {
   "cell_type": "code",
   "execution_count": null,
   "id": "8a2b7353",
   "metadata": {},
   "outputs": [],
   "source": [
    "text_clf.fit(X_train,y_train)"
   ]
  },
  {
   "cell_type": "code",
   "execution_count": null,
   "id": "f6709725",
   "metadata": {},
   "outputs": [],
   "source": [
    "y_pred=text_clf.predict(X_test)"
   ]
  },
  {
   "cell_type": "code",
   "execution_count": null,
   "id": "4abb2083",
   "metadata": {},
   "outputs": [],
   "source": [
    "print(\"Accuracy:\",accuracy_score(y_test,y_pred))\n",
    "print(\"\\nClassification Report:\\n\",classification_report(y_test,y_pred))\n",
    "print(\"\\nConfusion Matrix:\")\n",
    "conf_mat=confusion_matrix(y_test,y_pred)\n",
    "sns.heatmap(conf_mat,annot=True,fmt='d',cmap='Blues',xticklabels=['Ham','Spam'],yticklabels=['Ham','Spam'])\n",
    "plt.xlabel('Predicted')\n",
    "plt.ylabel('Actual')\n",
    "plt.title('Confusion Matrix')\n",
    "plt.show()"
   ]
  },
  {
   "cell_type": "code",
   "execution_count": null,
   "id": "309a736c",
   "metadata": {},
   "outputs": [],
   "source": [
    "scores=cross_val_score(text_clf,df['message'],df['label_num'],cv=5)\n",
    "print(\"Cross-validation scores:\",scores)\n",
    "print(\"Average CV Accuracy:\",np.mean(scores))"
   ]
  }
 ],
 "metadata": {
  "kernelspec": {
   "display_name": "Python 3",
   "language": "python",
   "name": "python3"
  },
  "language_info": {
   "codemirror_mode": {
    "name": "ipython",
    "version": 3
   },
   "file_extension": ".py",
   "mimetype": "text/x-python",
   "name": "python",
   "nbconvert_exporter": "python",
   "pygments_lexer": "ipython3",
   "version": "3.13.0"
  }
 },
 "nbformat": 4,
 "nbformat_minor": 5
}
